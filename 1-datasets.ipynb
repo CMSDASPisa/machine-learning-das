{
 "cells": [
  {
   "cell_type": "markdown",
   "metadata": {},
   "source": [
    "# Datasets\n",
    "Author: Javier Duarte\n"
   ]
  },
  {
   "cell_type": "markdown",
   "metadata": {},
   "source": [
    "## Converting datasets"
   ]
  },
  {
   "cell_type": "code",
   "execution_count": 7,
   "metadata": {},
   "outputs": [
    {
     "name": "stderr",
     "output_type": "stream",
     "text": [
      "INFO:rootpy.root2hdf5] Converting data/ntuple_4mu_gg.root ...\n",
      "INFO:rootpy.root2hdf5] Will convert 1 tree in /\n",
      "INFO:rootpy.root2hdf5] Converting tree 'HZZ4LeptonsAnalysisReduced' with 22344 entries ...\n",
      "INFO:rootpy.root2hdf5] Created data/ntuple_4mu_gg.h5\n",
      "INFO:rootpy.root2hdf5] Converting data/ntuple_4mu_VV.root ...\n",
      "INFO:rootpy.root2hdf5] Will convert 1 tree in /\n",
      "INFO:rootpy.root2hdf5] Converting tree 'HZZ4LeptonsAnalysisReduced' with 25817 entries ...\n",
      "INFO:rootpy.root2hdf5] Created data/ntuple_4mu_VV.h5\n"
     ]
    }
   ],
   "source": [
    "%%bash\n",
    "root2hdf5 -f data/ntuple_4mu_gg.root data/ntuple_4mu_VV.root"
   ]
  },
  {
   "cell_type": "code",
   "execution_count": 8,
   "metadata": {},
   "outputs": [
    {
     "name": "stderr",
     "output_type": "stream",
     "text": [
      "/cvmfs/cms.cern.ch/slc7_amd64_gcc700/external/py2-pippkgs_depscipy/3.0-omkpbe4/lib/python2.7/site-packages/h5py/__init__.py:36: FutureWarning: Conversion of the second argument of issubdtype from `float` to `np.floating` is deprecated. In future, it will be treated as `np.float64 == np.dtype(float).type`.\n",
      "  from ._conv import register_converters as _register_converters\n"
     ]
    }
   ],
   "source": [
    "import numpy as np\n",
    "import pandas as pd\n",
    "import h5py\n",
    "\n",
    "treename = 'HZZ4LeptonsAnalysisReduced'\n",
    "VARS = ['f_massjj','f_deltajj']\n",
    "filename = {}\n",
    "h5file = {}\n",
    "params = {}\n",
    "df = {}\n",
    "\n",
    "filename['VV'] = 'data/ntuple_4mu_VV.h5'\n",
    "filename['gg'] = 'data/ntuple_4mu_gg.h5'\n",
    "\n",
    "h5file['VV'] = h5py.File(filename['VV'], 'r') # open read-only\n",
    "params['VV'] = h5file['VV'][treename][()]\n",
    "h5file['gg'] = h5py.File(filename['gg'], 'r') # open read-only\n",
    "params['gg'] = h5file['gg'][treename][()]"
   ]
  },
  {
   "cell_type": "code",
   "execution_count": 11,
   "metadata": {},
   "outputs": [
    {
     "name": "stdout",
     "output_type": "stream",
     "text": [
      "('f_run', 'f_lumi', 'f_event', 'f_weight', 'f_int_weight', 'f_pu_weight', 'f_eff_weight', 'f_lept1_pt', 'f_lept1_eta', 'f_lept1_phi', 'f_lept1_charge', 'f_lept1_pfx', 'f_lept1_sip', 'f_lept2_pt', 'f_lept2_eta', 'f_lept2_phi', 'f_lept2_charge', 'f_lept2_pfx', 'f_lept2_sip', 'f_lept3_pt', 'f_lept3_eta', 'f_lept3_phi', 'f_lept3_charge', 'f_lept3_pfx', 'f_lept3_sip', 'f_lept4_pt', 'f_lept4_eta', 'f_lept4_phi', 'f_lept4_charge', 'f_lept4_pfx', 'f_lept4_sip', 'f_iso_max', 'f_sip_max', 'f_Z1mass', 'f_Z2mass', 'f_angle_costhetastar', 'f_angle_costheta1', 'f_angle_costheta2', 'f_angle_phi', 'f_angle_phistar1', 'f_pt4l', 'f_eta4l', 'f_mass4l', 'f_mass4lErr', 'f_njets_pass', 'f_deltajj', 'f_massjj', 'f_D_jet', 'f_jet1_pt', 'f_jet1_eta', 'f_jet1_phi', 'f_jet1_e', 'f_jet2_pt', 'f_jet2_eta', 'f_jet2_phi', 'f_jet2_e', 'f_D_bkg_kin', 'f_D_bkg', 'f_D_gg', 'f_D_g4', 'f_Djet_VAJHU', 'f_pfmet')\n",
      "\n",
      "      f_massjj  f_deltajj  isSignal\n",
      "0  1300.426880   5.128572       1.0\n",
      "1   437.221863   3.278692       1.0\n",
      "3  1021.744080   5.989169       1.0\n",
      "4  1101.381958   5.170628       1.0\n",
      "7   498.717194   4.895020       1.0\n",
      "\n",
      "      f_massjj  f_deltajj  isSignal\n",
      "4   121.394302   0.235953       0.0\n",
      "8   127.803024   2.774860       0.0\n",
      "12   76.221428   0.730752       0.0\n",
      "15   95.511597   1.546654       0.0\n",
      "18   26.986721   0.283680       0.0\n"
     ]
    }
   ],
   "source": [
    "print params['VV'].dtype.names\n",
    "print ''\n",
    "\n",
    "df['VV'] = pd.DataFrame(params['VV'],columns=VARS)\n",
    "df['gg'] = pd.DataFrame(params['gg'],columns=VARS)\n",
    "\n",
    "df['VV']= df['VV'][(df['VV'].f_massjj > 0) & (df['VV'].f_deltajj > 0)] # cut out undefined variables\n",
    "df['gg']= df['gg'][(df['gg'].f_massjj > 0) & (df['gg'].f_deltajj > 0)] # cut out undefined variables\n",
    "\n",
    "df['VV']['isSignal'] = np.ones(len(df['VV'])) # add isSignal variable\n",
    "df['gg']['isSignal'] = np.zeros(len(df['gg'])) # add isSignal variable\n",
    "\n",
    "print df['VV'].iloc[:5] # print first 5 entries\n",
    "print ''\n",
    "print df['gg'].iloc[:5] # print first 5 entries"
   ]
  }
 ],
 "metadata": {
  "kernelspec": {
   "display_name": "machine-learning-hats",
   "language": "python",
   "name": "machine-learning-hats"
  },
  "language_info": {
   "codemirror_mode": {
    "name": "ipython",
    "version": 2
   },
   "file_extension": ".py",
   "mimetype": "text/x-python",
   "name": "python",
   "nbconvert_exporter": "python",
   "pygments_lexer": "ipython2",
   "version": "2.7.14+"
  }
 },
 "nbformat": 4,
 "nbformat_minor": 2
}
